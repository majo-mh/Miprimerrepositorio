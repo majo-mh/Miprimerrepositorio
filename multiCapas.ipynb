{
  "nbformat": 4,
  "nbformat_minor": 0,
  "metadata": {
    "colab": {
      "provenance": [],
      "authorship_tag": "ABX9TyPQoFeWaurBQ/+RrgQPBCnt",
      "include_colab_link": true
    },
    "kernelspec": {
      "name": "python3",
      "display_name": "Python 3"
    },
    "language_info": {
      "name": "python"
    }
  },
  "cells": [
    {
      "cell_type": "markdown",
      "metadata": {
        "id": "view-in-github",
        "colab_type": "text"
      },
      "source": [
        "<a href=\"https://colab.research.google.com/github/majo-mh/ProgramacionOrientadaObjeros/blob/main/multiCapas.ipynb\" target=\"_parent\"><img src=\"https://colab.research.google.com/assets/colab-badge.svg\" alt=\"Open In Colab\"/></a>"
      ]
    },
    {
      "cell_type": "code",
      "execution_count": 1,
      "metadata": {
        "id": "z9pz_xOKHAD9"
      },
      "outputs": [],
      "source": [
        "import tensorflow as tf\n",
        "import numpy as np\n",
        "import matplotlib.pyplot as plt"
      ]
    },
    {
      "cell_type": "code",
      "source": [
        "celsius = np.array([-40, -10, 0, 8, 15, 22, 38], dtype=float)\n",
        "fahrenheit = np.array([-40, 14, 32, 46, 59, 72, 100], dtype=float)"
      ],
      "metadata": {
        "id": "TGs3cDeBHENx"
      },
      "execution_count": 2,
      "outputs": []
    },
    {
      "cell_type": "code",
      "source": [
        "capa = tf.keras.layers.Dense(units=1, input_shape=[1])\n",
        "modelo = tf.keras.Sequential([capa])\n",
        "oculta1 = tf.keras.layers.Dense(units=3, input_shape=[1])\n",
        "oculta2 = tf.keras.layers.Dense(units=3)\n",
        "salida = tf.keras.layers.Dense(units=1)\n",
        "modelo = tf.keras.Sequential([oculta1, oculta2, salida])"
      ],
      "metadata": {
        "colab": {
          "base_uri": "https://localhost:8080/"
        },
        "id": "4AyO7Mt8HIOJ",
        "outputId": "0fe60674-6662-40e9-ec33-7a09971130bc"
      },
      "execution_count": 3,
      "outputs": [
        {
          "output_type": "stream",
          "name": "stderr",
          "text": [
            "/usr/local/lib/python3.10/dist-packages/keras/src/layers/core/dense.py:87: UserWarning: Do not pass an `input_shape`/`input_dim` argument to a layer. When using Sequential models, prefer using an `Input(shape)` object as the first layer in the model instead.\n",
            "  super().__init__(activity_regularizer=activity_regularizer, **kwargs)\n"
          ]
        }
      ]
    },
    {
      "cell_type": "code",
      "source": [
        "modelo.compile(\n",
        " optimizer=tf.keras.optimizers.Adam(0.1),\n",
        " loss='mean_squared_error'\n",
        ")\n",
        "print(\"Comenzando entrenamiento...\")\n",
        "historial = modelo.fit(celsius, fahrenheit, epochs=1000, verbose=False)\n",
        "print(\"Modelo entrenado!\")"
      ],
      "metadata": {
        "colab": {
          "base_uri": "https://localhost:8080/"
        },
        "id": "zK2sgRMoHMTd",
        "outputId": "983bad5a-db60-419c-c9fb-e3cc80b924e5"
      },
      "execution_count": 4,
      "outputs": [
        {
          "output_type": "stream",
          "name": "stdout",
          "text": [
            "Comenzando entrenamiento...\n",
            "Modelo entrenado!\n"
          ]
        }
      ]
    },
    {
      "cell_type": "code",
      "source": [
        "plt.xlabel(\"# ciclo\")\n",
        "plt.ylabel(\"Magnitud de pérdida\")\n",
        "plt.plot(historial.history[\"loss\"])"
      ],
      "metadata": {
        "colab": {
          "base_uri": "https://localhost:8080/",
          "height": 466
        },
        "id": "F9F1PfyxHP4z",
        "outputId": "05589625-5e0f-4aef-c754-4b1be494453f"
      },
      "execution_count": 5,
      "outputs": [
        {
          "output_type": "execute_result",
          "data": {
            "text/plain": [
              "[<matplotlib.lines.Line2D at 0x7e95f2fa43a0>]"
            ]
          },
          "metadata": {},
          "execution_count": 5
        },
        {
          "output_type": "display_data",
          "data": {
            "text/plain": [
              "<Figure size 640x480 with 1 Axes>"
            ],
            "image/png": "[encoded data removed]"
          },
          "metadata": {}
        }
      ]
    },
    {
      "cell_type": "code",
      "source": [
        "print(\"Hagamos una predicción!\")\n",
        "resultado = modelo.predict(np.array([10.0]))\n",
        "print(\"El resultado es \" + str(resultado) + \" fahrenheit!\")"
      ],
      "metadata": {
        "colab": {
          "base_uri": "https://localhost:8080/"
        },
        "id": "wJfDGxhHHTkx",
        "outputId": "56da1945-737a-44cb-bde4-a3ebc1feed81"
      },
      "execution_count": 6,
      "outputs": [
        {
          "output_type": "stream",
          "name": "stdout",
          "text": [
            "Hagamos una predicción!\n",
            "\u001b[1m1/1\u001b[0m \u001b[32m━━━━━━━━━━━━━━━━━━━━\u001b[0m\u001b[37m\u001b[0m \u001b[1m0s\u001b[0m 61ms/step\n",
            "El resultado es [[49.932022]] fahrenheit!\n"
          ]
        }
      ]
    },
    {
      "cell_type": "code",
      "source": [
        "print(\"Variables internas del modelo\")\n",
        "print(capa.get_weights())\n",
        "print(oculta1.get_weights())\n",
        "print(oculta2.get_weights())\n",
        "print(salida.get_weights())"
      ],
      "metadata": {
        "colab": {
          "base_uri": "https://localhost:8080/"
        },
        "id": "cNLUBrnDHVjE",
        "outputId": "f8858c4b-f695-4317-b199-4964b468c89c"
      },
      "execution_count": 7,
      "outputs": [
        {
          "output_type": "stream",
          "name": "stdout",
          "text": [
            "Variables internas del modelo\n",
            "[array([[1.5698498]], dtype=float32), array([0.], dtype=float32)]\n",
            "[array([[-0.21673   ,  0.73448545,  0.26219937]], dtype=float32), array([2.7393236, 3.23582  , 2.9300866], dtype=float32)]\n",
            "[array([[ 0.9695592 ,  0.20692925, -0.987726  ],\n",
            "       [ 1.0448942 ,  0.1586386 , -1.0733422 ],\n",
            "       [ 0.8080967 , -0.06379293,  0.09088381]], dtype=float32), array([ 3.1685717, -2.7796853, -3.1102762], dtype=float32)]\n",
            "[array([[ 1.4610786],\n",
            "       [-0.3136553],\n",
            "       [-1.2558843]], dtype=float32), array([3.119583], dtype=float32)]\n"
          ]
        }
      ]
    }
  ]
}